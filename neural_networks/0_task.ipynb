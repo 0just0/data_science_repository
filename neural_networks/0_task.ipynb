{
 "cells": [
  {
   "cell_type": "code",
   "execution_count": 29,
   "metadata": {
    "collapsed": true
   },
   "outputs": [],
   "source": [
    "import numpy as np\n",
    "import matplotlib.pyplot as plt\n",
    "import neurolab as nl"
   ]
  },
  {
   "cell_type": "code",
   "execution_count": 30,
   "metadata": {
    "collapsed": false
   },
   "outputs": [],
   "source": [
    "n = 4"
   ]
  },
  {
   "cell_type": "code",
   "execution_count": 31,
   "metadata": {
    "collapsed": false
   },
   "outputs": [
    {
     "data": {
      "text/plain": [
       "[<matplotlib.lines.Line2D at 0x11c818128>]"
      ]
     },
     "execution_count": 31,
     "metadata": {},
     "output_type": "execute_result"
    }
   ],
   "source": [
    "plt.plot([0.,5.], [5.,0.], 'b')\n",
    "\n",
    "xtrain = np.array([[1., 3.], [3., 1.], [3.5, 3.], [2., 4.]])\n",
    "plt.plot(xtrain[:, 0], xtrain[:, 1], 'b+')"
   ]
  },
  {
   "cell_type": "code",
   "execution_count": 32,
   "metadata": {
    "collapsed": false
   },
   "outputs": [
    {
     "data": {
      "text/plain": [
       "array([[-1.],\n",
       "       [-1.],\n",
       "       [ 1.],\n",
       "       [ 1.]])"
      ]
     },
     "execution_count": 32,
     "metadata": {},
     "output_type": "execute_result"
    }
   ],
   "source": [
    "d = np.zeros(n)\n",
    "d = np.sign(xtrain[:,0] + xtrain[:,1] - 5)\n",
    "d = d.reshape(n,1)\n",
    "d"
   ]
  },
  {
   "cell_type": "code",
   "execution_count": 33,
   "metadata": {
    "collapsed": false
   },
   "outputs": [
    {
     "name": "stdout",
     "output_type": "stream",
     "text": [
      "[[-0.35577109]\n",
      " [-0.57045474]\n",
      " [ 0.46502942]\n",
      " [ 0.60872544]]\n"
     ]
    }
   ],
   "source": [
    "MyFirstNet = nl.net.newff([[0,5], [0,5]], [3,1]) #x1 and x2 => в скрытом слое 5 нейронов\n",
    "y = MyFirstNet.sim(xtrain) #Даем обучающий пример\n",
    "print(y)"
   ]
  },
  {
   "cell_type": "code",
   "execution_count": 34,
   "metadata": {
    "collapsed": false
   },
   "outputs": [],
   "source": [
    "for i in range(n):\n",
    "    if y[i] > 0:\n",
    "        plt.plot(xtrain[i, 0], xtrain[i, 1], 'ro')\n",
    "    if y[i] < 0:\n",
    "        plt.plot(xtrain[i, 0], xtrain[i, 1], 'go')\n"
   ]
  },
  {
   "cell_type": "code",
   "execution_count": 35,
   "metadata": {
    "collapsed": false
   },
   "outputs": [
    {
     "name": "stdout",
     "output_type": "stream",
     "text": [
      "The goal of learning is reached\n"
     ]
    }
   ],
   "source": [
    "err = MyFirstNet.train(xtrain, d, show=15)"
   ]
  },
  {
   "cell_type": "code",
   "execution_count": 36,
   "metadata": {
    "collapsed": false
   },
   "outputs": [],
   "source": [
    "#Опрос обученной сети\n",
    "y = MyFirstNet.sim(xtrain)\n",
    "for i in range(n):\n",
    "    if y[i] > 0:\n",
    "        plt.plot(xtrain[i, 0], xtrain[i, 1], 'ro')\n",
    "    if y[i] < 0:\n",
    "        plt.plot(xtrain[i, 0], xtrain[i, 1], 'go')\n"
   ]
  },
  {
   "cell_type": "code",
   "execution_count": 37,
   "metadata": {
    "collapsed": false
   },
   "outputs": [
    {
     "data": {
      "image/png": "[encoded data removed]",
      "text/plain": [
       "<matplotlib.figure.Figure at 0x11bbcab38>"
      ]
     },
     "metadata": {},
     "output_type": "display_data"
    }
   ],
   "source": [
    "# Создние тестового множества\n",
    "\n",
    "ntest = 25 * 25\n",
    "xtest = np.zeros(ntest * 2)\n",
    "xtest = xtest.reshape(ntest, 2)\n",
    "i = 0\n",
    "k0 = 0.\n",
    "while k0 < 5:\n",
    "    k1 = 0.\n",
    "    while k1 < 5:\n",
    "        xtest[i, 0] = k0\n",
    "        xtest[i, 1] = k1\n",
    "        i += 1\n",
    "        k1 += 0.2\n",
    "    k0 += 0.2\n",
    "\n",
    "\n",
    "# Проверка способности сети к обобщению \n",
    "# сосчитает 655 точек\n",
    "\n",
    "y = MyFirstNet.sim(xtest)\n",
    "for i in range(ntest):\n",
    "    if y[i] > 0:\n",
    "        plt.plot(xtest[i, 0], xtest[i, 1], 'r+')\n",
    "    if y[i] < 0:\n",
    "        plt.plot(xtest[i, 0], xtest[i, 1], 'g+')\n",
    "plt.axis([0, 5, 0, 5])\n",
    "plt.show()\n"
   ]
  },
  {
   "cell_type": "code",
   "execution_count": null,
   "metadata": {
    "collapsed": true
   },
   "outputs": [],
   "source": []
  },
  {
   "cell_type": "code",
   "execution_count": null,
   "metadata": {
    "collapsed": true
   },
   "outputs": [],
   "source": []
  }
 ],
 "metadata": {
  "kernelspec": {
   "display_name": "Python 3",
   "language": "python",
   "name": "python3"
  },
  "language_info": {
   "codemirror_mode": {
    "name": "ipython",
    "version": 3
   },
   "file_extension": ".py",
   "mimetype": "text/x-python",
   "name": "python",
   "nbconvert_exporter": "python",
   "pygments_lexer": "ipython3",
   "version": "3.6.0"
  }
 },
 "nbformat": 4,
 "nbformat_minor": 2
}
