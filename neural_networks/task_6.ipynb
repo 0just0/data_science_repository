{
 "cells": [
  {
   "cell_type": "code",
   "execution_count": 1,
   "metadata": {
    "collapsed": true
   },
   "outputs": [],
   "source": [
    "import neurolab as nl\n",
    "import matplotlib.pyplot as plt\n",
    "import numpy as np\n",
    "from MemLVQ import newlvq_for_memory"
   ]
  },
  {
   "cell_type": "code",
   "execution_count": 2,
   "metadata": {
    "collapsed": false
   },
   "outputs": [
    {
     "name": "stdout",
     "output_type": "stream",
     "text": [
      "[[ 1.   0.   0.   0.   1.   1.   1.   0.   0.   1.   1.   0.   1.   0.   1.\n",
      "   1.   0.   0.   1.   1.   1.   0.   0.   0.   1. ]\n",
      " [ 1.   1.   1.   1.   1.   1.   0.   0.   0.   0.   1.   1.   1.   1.   1.\n",
      "   1.   0.   0.   0.   0.   1.   1.   1.   1.   1. ]\n",
      " [ 1.   1.   1.   1.   0.   1.   0.   0.   0.   1.   1.   1.   1.   1.   0.\n",
      "   1.   0.   0.   1.   0.   1.   0.   0.   0.   1. ]\n",
      " [ 0.3  1.   1.   0.9  0.   1.   0.   0.   0.   1.   1.   0.   0.1  0.   0.9\n",
      "   1.   0.   0.   0.   1.   0.   1.   1.   1.   0. ]]\n",
      "[[ 1.  0.  0.  0.  1.  1.  1.  0.  0.  1.  1.  0.  1.  0.  1.  1.  0.  0.\n",
      "   1.  1.  1.  0.  0.  0.  1.]\n",
      " [ 1.  1.  1.  1.  1.  1.  0.  0.  0.  0.  1.  1.  1.  1.  1.  1.  0.  0.\n",
      "   0.  0.  1.  1.  1.  1.  1.]\n",
      " [ 1.  1.  1.  1.  0.  1.  0.  0.  0.  1.  1.  1.  1.  1.  0.  1.  0.  0.\n",
      "   1.  0.  1.  0.  0.  0.  1.]\n",
      " [ 0.  1.  1.  1.  0.  1.  0.  0.  0.  1.  1.  0.  0.  0.  1.  1.  0.  0.\n",
      "   0.  1.  0.  1.  1.  1.  0.]]\n"
     ]
    }
   ],
   "source": [
    "n = 4\n",
    "x = np.array([[1,0,0,0,1,\n",
    "           1,1,0,0,1,\n",
    "           1,0,1,0,1,\n",
    "           1,0,0,1,1,\n",
    "           1,0,0,0,1],\n",
    "          [1,1,1,1,1,\n",
    "           1,0,0,0,0,\n",
    "           1,1,1,1,1,\n",
    "           1,0,0,0,0,\n",
    "           1,1,1,1,1],\n",
    "          [1,1,1,1,0,\n",
    "           1,0,0,0,1,\n",
    "           1,1,1,1,0,\n",
    "           1,0,0,1,0,\n",
    "           1,0,0,0,1],\n",
    "          [0,1,1,1,0,\n",
    "           1,0,0,0,1,\n",
    "           1,0,0,0,1,\n",
    "           1,0,0,0,1,\n",
    "           0,1,1,1,0]])\n",
    "d = np.transpose(x)\n",
    "w = np.zeros(x.shape)\n",
    "for i in range(n):\n",
    "    w[i] = x[i] / np.linalg.norm(x[i])\n",
    "\n",
    "minmax = [[0,1]] * 25\n",
    "net = newlvq_for_memory(minmax, 4, 25)\n",
    "\n",
    "net.layers[0].np['w'] = x\n",
    "net.layers[1].np['w'] = d\n",
    "\n",
    "xtest = np.array([[1,0,0,0,1,\n",
    "           1,1,0,0,1,\n",
    "           1,0,1,0,1,\n",
    "           1,0,0,1,1,\n",
    "           1,0,0,0,1],\n",
    "          [1,1,1,1,1,\n",
    "           1,0,0,0,0,\n",
    "           1,1,1,1,1,\n",
    "           1,0,0,0,0,\n",
    "           1,1,1,1,1],\n",
    "          [1,1,1,1,0,\n",
    "           1,0,0,0,1,\n",
    "           1,1,1,1,0,\n",
    "           1,0,0,1,0,\n",
    "           1,0,0,0,1],\n",
    "          [0.3,1,1,.9,0,\n",
    "           1,0,0,0,1,\n",
    "           1,0,.1,0,.9,\n",
    "           1,0,0,0,1,\n",
    "           0,1,1,1,0]])\n",
    "y = net.sim(xtest)\n",
    "print(xtest)\n",
    "print(y)"
   ]
  },
  {
   "cell_type": "code",
   "execution_count": 3,
   "metadata": {
    "collapsed": false,
    "scrolled": false
   },
   "outputs": [
    {
     "data": {
      "image/png": "[encoded data removed]",
      "text/plain": [
       "<matplotlib.figure.Figure at 0x11410a390>"
      ]
     },
     "metadata": {},
     "output_type": "display_data"
    },
    {
     "data": {
      "image/png": "[encoded data removed]",
      "text/plain": [
       "<matplotlib.figure.Figure at 0x1175e6fd0>"
      ]
     },
     "metadata": {},
     "output_type": "display_data"
    },
    {
     "data": {
      "image/png": "[encoded data removed]",
      "text/plain": [
       "<matplotlib.figure.Figure at 0x1176f3710>"
      ]
     },
     "metadata": {},
     "output_type": "display_data"
    },
    {
     "data": {
      "image/png": "[encoded data removed]",
      "text/plain": [
       "<matplotlib.figure.Figure at 0x1176d35c0>"
      ]
     },
     "metadata": {},
     "output_type": "display_data"
    }
   ],
   "source": [
    "for i in x:\n",
    "    el = 0\n",
    "    line = 5\n",
    "    for j in range(25):\n",
    "        el += 1\n",
    "        if el > 5:\n",
    "            el = 1\n",
    "            line -= 1\n",
    "        if i[j] == 1:\n",
    "            plt.plot(el, line, 'bo')\n",
    "    plt.show()"
   ]
  },
  {
   "cell_type": "code",
   "execution_count": null,
   "metadata": {
    "collapsed": true
   },
   "outputs": [],
   "source": []
  },
  {
   "cell_type": "code",
   "execution_count": null,
   "metadata": {
    "collapsed": true
   },
   "outputs": [],
   "source": []
  },
  {
   "cell_type": "code",
   "execution_count": null,
   "metadata": {
    "collapsed": true
   },
   "outputs": [],
   "source": []
  }
 ],
 "metadata": {
  "kernelspec": {
   "display_name": "Python 3",
   "language": "python",
   "name": "python3"
  },
  "language_info": {
   "codemirror_mode": {
    "name": "ipython",
    "version": 3
   },
   "file_extension": ".py",
   "mimetype": "text/x-python",
   "name": "python",
   "nbconvert_exporter": "python",
   "pygments_lexer": "ipython3",
   "version": "3.6.0"
  }
 },
 "nbformat": 4,
 "nbformat_minor": 2
}
