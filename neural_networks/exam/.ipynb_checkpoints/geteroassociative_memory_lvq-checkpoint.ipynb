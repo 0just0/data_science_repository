{
 "cells": [
  {
   "cell_type": "code",
   "execution_count": 1,
   "metadata": {
    "collapsed": true
   },
   "outputs": [],
   "source": [
    "import numpy as np\n",
    "import neurolab as nl"
   ]
  },
  {
   "cell_type": "code",
   "execution_count": 2,
   "metadata": {
    "collapsed": false
   },
   "outputs": [],
   "source": [
    "#Образцы и ассоциации\n",
    "n = 3\n",
    "x = np.array([[1.,0.,0.,0,1,0,1,0,1,0,0,0,1,0,0,0,1,0,1,0,1,0,0,0,1], \n",
    "              [1,0,0,0,1,0,1,0,1,0,0,0,1,0,0,0,0,1,0,0,0,0,1,0,0],\n",
    "              [1,1,1,1,1,0,0,0,1,0,0,0,1,0,0,0,1,0,0,0,1,1,1,1,1]])\n",
    "d = np.array([[1, 2, 3]])"
   ]
  },
  {
   "cell_type": "code",
   "execution_count": 3,
   "metadata": {
    "collapsed": false
   },
   "outputs": [
    {
     "name": "stdout",
     "output_type": "stream",
     "text": [
      "[[ 1.  0.  0.  0.  1.  0.  1.  0.  1.  0.  0.  0.  1.  0.  0.  0.  1.  0.\n",
      "   1.  0.  1.  0.  0.  0.  1.]\n",
      " [ 1.  0.  0.  0.  1.  0.  1.  0.  1.  0.  0.  0.  1.  0.  0.  0.  0.  1.\n",
      "   0.  0.  0.  0.  1.  0.  0.]\n",
      " [ 1.  1.  1.  1.  1.  0.  0.  0.  1.  0.  0.  0.  1.  0.  0.  0.  1.  0.\n",
      "   0.  0.  1.  1.  1.  1.  1.]]\n",
      "[[ 1.]\n",
      " [ 2.]\n",
      " [ 3.]]\n"
     ]
    },
    {
     "name": "stderr",
     "output_type": "stream",
     "text": [
      "/Users/Dmitry/anaconda3/envs/data_science_test/lib/python3.6/site-packages/neurolab/net.py:179: VisibleDeprecationWarning: using a non-integer number instead of an integer will result in an error in the future\n",
      "  layer_out.np['w'][n][st:i].fill(1.0)\n"
     ]
    }
   ],
   "source": [
    "net = nl.net.newlvq(nl.tool.minmax(x), 3, [1])\n",
    "# Train network\n",
    "net.layers[0].np['w'] = x\n",
    "net.layers[1].np['w'] = d\n",
    "output = net.sim(x)\n",
    "\n",
    "print(x)\n",
    "print(output)"
   ]
  },
  {
   "cell_type": "code",
   "execution_count": 4,
   "metadata": {
    "collapsed": false
   },
   "outputs": [
    {
     "name": "stdout",
     "output_type": "stream",
     "text": [
      "[[ 2.  0.  0.  0.  1.  0.  1.  0.  1.  0.  0.  0.  1.  0.  0.  0.  1.  0.\n",
      "   1.  0.  1.  0.  0.  0.  1.]\n",
      " [ 1.  1.  0.  0.  1.  0.  1.  0.  1.  0.  0.  0.  1.  0.  0.  0.  0.  1.\n",
      "   0.  0.  0.  0.  1.  0.  0.]\n",
      " [ 1.  1.  2.  1.  1.  0.  0.  0.  1.  0.  0.  0.  1.  0.  0.  0.  1.  0.\n",
      "   0.  0.  1.  1.  1.  1.  1.]]\n",
      "[[ 1.]\n",
      " [ 2.]\n",
      " [ 3.]]\n"
     ]
    }
   ],
   "source": [
    "#Опрос сети на искаженных образцах\n",
    "xtest = x + np.eye(3,25)\n",
    "y = net.sim(xtest)\n",
    "print(xtest)\n",
    "print(y)"
   ]
  },
  {
   "cell_type": "code",
   "execution_count": null,
   "metadata": {
    "collapsed": true
   },
   "outputs": [],
   "source": []
  }
 ],
 "metadata": {
  "kernelspec": {
   "display_name": "Python 3",
   "language": "python",
   "name": "python3"
  },
  "language_info": {
   "codemirror_mode": {
    "name": "ipython",
    "version": 3
   },
   "file_extension": ".py",
   "mimetype": "text/x-python",
   "name": "python",
   "nbconvert_exporter": "python",
   "pygments_lexer": "ipython3",
   "version": "3.6.0"
  }
 },
 "nbformat": 4,
 "nbformat_minor": 2
}
