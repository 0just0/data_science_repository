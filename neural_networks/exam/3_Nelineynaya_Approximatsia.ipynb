{
 "cells": [
  {
   "cell_type": "code",
   "execution_count": 10,
   "metadata": {
    "collapsed": true
   },
   "outputs": [],
   "source": [
    "import neurolab as nl\n",
    "import matplotlib\n",
    "import matplotlib.pyplot as plt\n",
    "import numpy as np"
   ]
  },
  {
   "cell_type": "code",
   "execution_count": 11,
   "metadata": {
    "collapsed": true
   },
   "outputs": [],
   "source": [
    "x = np.array([[0.], [0.9], [1.6], [3.], [4.2], [5.], [6.5], [8.3], [9.5], [10.]])\n",
    "y = np.array([[1.8], [3.5], [3.8], [3.], [1.2], [1.1], [1.8], [3.5], [4.5], [5.]])\n",
    "size = len(x)\n",
    "inp = x.reshape(size,1)\n",
    "tar = y.reshape(size,1)"
   ]
  },
  {
   "cell_type": "code",
   "execution_count": 12,
   "metadata": {
    "collapsed": false
   },
   "outputs": [
    {
     "name": "stdout",
     "output_type": "stream",
     "text": [
      "The goal of learning is reached\n"
     ]
    }
   ],
   "source": [
    "net = nl.net.newff([[0, 10]],[5, 1], [nl.net.trans.LogSig(), nl.net.trans.PureLin()]) # 5 скрытый 1 выходной\n",
    "\n",
    "error = net.train(inp, tar, epochs=500, show=100, goal=0.02)"
   ]
  },
  {
   "cell_type": "code",
   "execution_count": 13,
   "metadata": {
    "collapsed": false
   },
   "outputs": [
    {
     "data": {
      "image/png": "[encoded data removed]",
      "text/plain": [
       "<matplotlib.figure.Figure at 0x112259588>"
      ]
     },
     "metadata": {},
     "output_type": "display_data"
    }
   ],
   "source": [
    "out = net.sim(inp)\n",
    "plt.plot(x, y, '-')\n",
    "plt.plot(x, out, 'bo')\n",
    "plt.show()"
   ]
  },
  {
   "cell_type": "code",
   "execution_count": null,
   "metadata": {
    "collapsed": true
   },
   "outputs": [],
   "source": []
  }
 ],
 "metadata": {
  "kernelspec": {
   "display_name": "Python 3",
   "language": "python",
   "name": "python3"
  },
  "language_info": {
   "codemirror_mode": {
    "name": "ipython",
    "version": 3
   },
   "file_extension": ".py",
   "mimetype": "text/x-python",
   "name": "python",
   "nbconvert_exporter": "python",
   "pygments_lexer": "ipython3",
   "version": "3.6.0"
  }
 },
 "nbformat": 4,
 "nbformat_minor": 2
}
