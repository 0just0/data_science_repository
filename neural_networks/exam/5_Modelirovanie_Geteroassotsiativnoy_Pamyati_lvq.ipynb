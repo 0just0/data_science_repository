{
 "cells": [
  {
   "cell_type": "code",
   "execution_count": 62,
   "metadata": {
    "collapsed": false
   },
   "outputs": [],
   "source": [
    "import numpy as np\n",
    "import neurolab as nl\n",
    "import math"
   ]
  },
  {
   "cell_type": "code",
   "execution_count": 63,
   "metadata": {
    "collapsed": false
   },
   "outputs": [
    {
     "ename": "SyntaxError",
     "evalue": "EOF while scanning triple-quoted string literal (<ipython-input-63-9a61c3d8a477>, line 5)",
     "output_type": "error",
     "traceback": [
      "\u001b[0;36m  File \u001b[0;32m\"<ipython-input-63-9a61c3d8a477>\"\u001b[0;36m, line \u001b[0;32m5\u001b[0m\n\u001b[0;31m    функция активации:\u001b[0m\n\u001b[0m                      \n^\u001b[0m\n\u001b[0;31mSyntaxError\u001b[0m\u001b[0;31m:\u001b[0m EOF while scanning triple-quoted string literal\n"
     ]
    }
   ],
   "source": [
    "\"\"\"\"\n",
    "Для решения данной задачи использована сеть встречного распространения\n",
    "\n",
    "Данная сеть содержит слой кохонена и слой гроссберга; \n",
    "\n",
    "Размерность слоев: 25 на вход, 3 на скрытом = число образцов, на выход для каждого ассоциация = 3\n",
    "\n",
    "функция активации: на гроссберга - линейная\n",
    "#layer_inp = layer.Competitive(ci, cn0)\n",
    "layer_out = layer.Perceptron(cn0, cn1, trans.PureLin())\n",
    "\n",
    "обучается с учителем\n",
    "образца 3\n"
   ]
  },
  {
   "cell_type": "code",
   "execution_count": 64,
   "metadata": {
    "collapsed": false
   },
   "outputs": [],
   "source": [
    "#Функция, вычисляющая длину вектора\n",
    "def Norma(v):\n",
    "    norma_v = 0\n",
    "    for i in range(len(v)):\n",
    "        norma_v += v[i]*v[i]\n",
    "    return math.sqrt(norma_v)\n",
    "\n",
    "#Образцы и ассоциации\n",
    "n=3\n",
    "x = np.array([[1.,0.,0.,0.,1.,0.,1.,0.,1.,0.,0.,0.,1.,0.,0.,0.,1.,0.,1.,0.,1.,0.,0.,0.,1.],\n",
    "              [1.,0.,0.,0.,1.,0.,1.,0.,1.,0.,0.,0.,1.,0.,0.,0.,0.,1.,0.,0.,0.,0.,1.,0.,0.],\n",
    "              [1.,1.,1.,1.,1.,0.,0.,0.,1.,0.,0.,0.,1.,0.,0.,0.,1.,0.,0.,0.,1.,1.,1.,1.,1.]])\n",
    "d = np.array([[1, 2, 3]])\n",
    "\n"
   ]
  },
  {
   "cell_type": "code",
   "execution_count": 65,
   "metadata": {
    "collapsed": false
   },
   "outputs": [
    {
     "data": {
      "text/plain": [
       "[[0.0, 1.0],\n",
       " [0.0, 1.0],\n",
       " [0.0, 1.0],\n",
       " [0.0, 1.0],\n",
       " [0.0, 1.0],\n",
       " [0.0, 1.0],\n",
       " [0.0, 1.0],\n",
       " [0.0, 1.0],\n",
       " [0.0, 1.0],\n",
       " [0.0, 1.0],\n",
       " [0.0, 1.0],\n",
       " [0.0, 1.0],\n",
       " [0.0, 1.0],\n",
       " [0.0, 1.0],\n",
       " [0.0, 1.0],\n",
       " [0.0, 1.0],\n",
       " [0.0, 1.0],\n",
       " [0.0, 1.0],\n",
       " [0.0, 1.0],\n",
       " [0.0, 1.0],\n",
       " [0.0, 1.0],\n",
       " [0.0, 1.0],\n",
       " [0.0, 1.0],\n",
       " [0.0, 1.0],\n",
       " [0.0, 1.0]]"
      ]
     },
     "execution_count": 65,
     "metadata": {},
     "output_type": "execute_result"
    }
   ],
   "source": [
    "#Создание сети встречного распространения\n",
    "minmax = [[0.,1.]] * 25\n",
    "minmax"
   ]
  },
  {
   "cell_type": "code",
   "execution_count": 66,
   "metadata": {
    "collapsed": false
   },
   "outputs": [
    {
     "name": "stdout",
     "output_type": "stream",
     "text": [
      "[[ 0.33333333  0.          0.          0.          0.33333333  0.\n",
      "   0.33333333  0.          0.33333333  0.          0.          0.\n",
      "   0.33333333  0.          0.          0.          0.33333333  0.\n",
      "   0.33333333  0.          0.33333333  0.          0.          0.\n",
      "   0.33333333]\n",
      " [ 0.37796447  0.          0.          0.          0.37796447  0.\n",
      "   0.37796447  0.          0.37796447  0.          0.          0.\n",
      "   0.37796447  0.          0.          0.          0.          0.37796447\n",
      "   0.          0.          0.          0.          0.37796447  0.          0.        ]\n",
      " [ 0.2773501   0.2773501   0.2773501   0.2773501   0.2773501   0.          0.\n",
      "   0.          0.2773501   0.          0.          0.          0.2773501\n",
      "   0.          0.          0.          0.2773501   0.          0.          0.\n",
      "   0.2773501   0.2773501   0.2773501   0.2773501   0.2773501 ]]\n"
     ]
    },
    {
     "name": "stderr",
     "output_type": "stream",
     "text": [
      "/Users/daryanaumova/anaconda3/lib/python3.6/site-packages/neurolab/net.py:179: VisibleDeprecationWarning: using a non-integer number instead of an integer will result in an error in the future\n",
      "  layer_out.np['w'][n][st:i].fill(1.0)\n"
     ]
    }
   ],
   "source": [
    "MyLVQ = nl.net.newlvq(minmax, n, [1])\n",
    "#Нормализация образцов и задание весов сети\n",
    "for i in range(n):\n",
    "    x[i] = x[i] / Norma(x[i])\n",
    "print(x)\n",
    "MyLVQ.layers[0].np['w'] = x\n",
    "MyLVQ.layers[1].np['w'] = d"
   ]
  },
  {
   "cell_type": "code",
   "execution_count": 68,
   "metadata": {
    "collapsed": false
   },
   "outputs": [
    {
     "name": "stdout",
     "output_type": "stream",
     "text": [
      "[[ 0.   0.   0.   0.   1.   0.   1.   0.   1.   0.   0.   0.   0.   0.   0.\n",
      "   0.   1.   0.   1.   0.   1.   0.   0.   0.   1. ]\n",
      " [ 0.3  0.   0.   0.   1.   0.   0.3  0.   1.   1.   0.   0.   1.   0.   0.\n",
      "   0.   0.   1.   0.   0.   0.   0.   1.   0.   0. ]\n",
      " [ 1.   1.   0.   0.   1.   0.   0.   0.   0.   0.   0.   0.   1.   0.   0.\n",
      "   0.   1.   0.   0.   0.   0.   1.   1.   1.   1. ]]\n",
      "[[ 1.]\n",
      " [ 2.]\n",
      " [ 3.]]\n"
     ]
    }
   ],
   "source": [
    "#Опрос сети на искаженных образцах\n",
    "xtest  = np.array([[0.,0.,0.,0.,1.,0.,1.,0.,1.,0.,0.,0.,0.,0.,0.,0.,1.,0.,1.,0.,1.,0.,0.,0.,1.],\n",
    "              [0.3,0.,0.,0.,1.,0.,0.3,0.,1.,1.,0.,0.,1.,0.,0.,0.,0.,1.,0.,0.,0.,0.,1.,0.,0.],\n",
    "              [1.,1.,0.,0.,1.,0.,0.,0.,0.,0.,0.,0.,1.,0.,0.,0.,1.,0.,0.,0.,0.,1.,1.,1.,1.]])\n",
    "y = MyLVQ.sim(xtest)\n",
    "print(xtest)\n",
    "print(y)\n",
    "\n"
   ]
  },
  {
   "cell_type": "code",
   "execution_count": null,
   "metadata": {
    "collapsed": true
   },
   "outputs": [],
   "source": []
  },
  {
   "cell_type": "code",
   "execution_count": null,
   "metadata": {
    "collapsed": true
   },
   "outputs": [],
   "source": []
  }
 ],
 "metadata": {
  "kernelspec": {
   "display_name": "Python 3",
   "language": "python",
   "name": "python3"
  },
  "language_info": {
   "codemirror_mode": {
    "name": "ipython",
    "version": 3
   },
   "file_extension": ".py",
   "mimetype": "text/x-python",
   "name": "python",
   "nbconvert_exporter": "python",
   "pygments_lexer": "ipython3",
   "version": "3.6.0"
  }
 },
 "nbformat": 4,
 "nbformat_minor": 2
}
