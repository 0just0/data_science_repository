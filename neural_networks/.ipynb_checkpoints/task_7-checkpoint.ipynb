{
 "cells": [
  {
   "cell_type": "code",
   "execution_count": 7,
   "metadata": {
    "collapsed": false
   },
   "outputs": [
    {
     "data": {
      "text/plain": [
       "array([[ 0.4472136, -0.2236068,  0.       ,  0.       ],\n",
       "       [ 0.2236068,  0.4472136,  0.       ,  0.       ],\n",
       "       [ 0.       ,  0.       ,  0.4472136,  0.2236068],\n",
       "       [ 0.       ,  0.       ,  0.2236068, -0.4472136]])"
      ]
     },
     "execution_count": 7,
     "metadata": {},
     "output_type": "execute_result"
    }
   ],
   "source": [
    "import numpy as np\n",
    "import neurolab as nl\n",
    "from sklearn.preprocessing import normalize\n",
    "\n",
    "#Образцы и ассоциации\n",
    "n = 4\n",
    "x = np.array([[2., -1., 0., 0.], [1., 2., 0., 0.], [0., 0., 2., 1.], [0., 0., 1., -2.]])\n",
    "d = np.array([[1, 1], [-1, -1], [1, -1], [-1, 1]])\n",
    "\n",
    "x = x / np.linalg.norm(x)\n",
    "x"
   ]
  },
  {
   "cell_type": "code",
   "execution_count": 8,
   "metadata": {
    "collapsed": false
   },
   "outputs": [],
   "source": [
    "#Создание линейного ассоциатора с пороговыми функциями активации\n",
    "MyPerc = nl.net.newp(nl.tool.minmax(x), 2, nl.net.trans.PureLin())\n",
    "#Задание весов сети\n",
    "w = np.zeros((2,4))\n",
    "for i in range(4):\n",
    "    for j in range(2):\n",
    "        for k in range (n):\n",
    "            w[j,i] += x[k,i]*d[k,j]\n",
    "MyPerc.layers[0].np['w'] = w\n",
    "MyPerc.layers[0].np['b'] = 0"
   ]
  },
  {
   "cell_type": "code",
   "execution_count": 9,
   "metadata": {
    "collapsed": false
   },
   "outputs": [
    {
     "name": "stdout",
     "output_type": "stream",
     "text": [
      "[[ 0.4472136 -0.2236068  0.         0.       ]\n",
      " [ 0.2236068  0.4472136  0.         0.       ]\n",
      " [ 0.         0.         0.4472136  0.2236068]\n",
      " [ 0.         0.         0.2236068 -0.4472136]]\n",
      "[[ 0.25  0.25]\n",
      " [-0.25 -0.25]\n",
      " [ 0.25 -0.25]\n",
      " [-0.25  0.25]]\n"
     ]
    }
   ],
   "source": [
    "#Опрос сети на исходных образцах\n",
    "y = MyPerc.sim(x)\n",
    "print(x)\n",
    "print(y)"
   ]
  },
  {
   "cell_type": "code",
   "execution_count": 10,
   "metadata": {
    "collapsed": false
   },
   "outputs": [
    {
     "name": "stdout",
     "output_type": "stream",
     "text": [
      "[[ 0.4472136 -0.2236068  0.         1.       ]\n",
      " [ 0.2236068  0.4472136  1.         0.       ]\n",
      " [ 0.         1.         0.4472136  0.2236068]\n",
      " [ 1.         0.         0.2236068 -0.4472136]]\n",
      "[[ 0.92082039 -0.42082039]\n",
      " [-0.0263932  -0.4736068 ]\n",
      " [-0.42082039 -0.92082039]\n",
      " [-0.0263932   0.4736068 ]]\n"
     ]
    }
   ],
   "source": [
    "xtest = x + np.array([[0,0,0,1], [0,0,1,0], [0,1,0,0], [1,0,0,0]])\n",
    "y = MyPerc.sim(xtest)\n",
    "print(xtest)\n",
    "print(y)"
   ]
  },
  {
   "cell_type": "code",
   "execution_count": null,
   "metadata": {
    "collapsed": true
   },
   "outputs": [],
   "source": []
  }
 ],
 "metadata": {
  "kernelspec": {
   "display_name": "Python 3",
   "language": "python",
   "name": "python3"
  },
  "language_info": {
   "codemirror_mode": {
    "name": "ipython",
    "version": 3
   },
   "file_extension": ".py",
   "mimetype": "text/x-python",
   "name": "python",
   "nbconvert_exporter": "python",
   "pygments_lexer": "ipython3",
   "version": "3.6.0"
  }
 },
 "nbformat": 4,
 "nbformat_minor": 2
}
