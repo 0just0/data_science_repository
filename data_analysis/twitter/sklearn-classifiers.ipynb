{
 "cells": [
  {
   "cell_type": "markdown",
   "metadata": {},
   "source": [
    "# Лабораторная работа по анализу Twitter\n",
    "\n",
    "Целью лабораторной работы является научиться применять методы обучения с учителем (supervised learning) для задачи анализа тональностей, а также освоить специализированный инструментарий для компьютерной лингвистики и машинного обучения.\n",
    "\n",
    "- Загрузить с использованием csv файлов твиты.\n",
    "- Провести предобработку корпуса (удаление стоп-слов, и т.д.)\n",
    "- Используя выбранную модель репрезентации получить матричное представление.\n",
    "- Используя изученные классификаторы получить численные оценки точности, полноты и F-меры.\n",
    "- Объяснить полученные результаты."
   ]
  },
  {
   "cell_type": "code",
   "execution_count": 49,
   "metadata": {
    "collapsed": false
   },
   "outputs": [],
   "source": [
    "import os\n",
    "import numpy as np\n",
    "import pandas as pd\n",
    "\n",
    "from nltk.tokenize import word_tokenize\n",
    "from nltk.corpus import stopwords\n",
    "\n",
    "from sklearn.model_selection import train_test_split\n",
    "from sklearn.metrics import accuracy_score\n",
    "\n",
    "from sklearn import metrics\n",
    "from sklearn.feature_extraction.text import CountVectorizer\n",
    "from sklearn.feature_extraction.text import TfidfVectorizer\n",
    "\n",
    "from sklearn.linear_model import LogisticRegression\n",
    "from sklearn.naive_bayes import BernoulliNB\n",
    "from sklearn.svm import SVC\n",
    "from sklearn.svm import LinearSVC\n",
    "\n",
    "import preprocessor as p\n",
    "p.set_options(p.OPT.URL, p.OPT.MENTION, p.OPT.RESERVED, p.OPT.EMOJI,p.OPT.SMILEY,p.OPT.NUMBER,p.OPT.HASHTAG)\n",
    "\n",
    "import warnings\n",
    "warnings.simplefilter('ignore')"
   ]
  },
  {
   "cell_type": "markdown",
   "metadata": {},
   "source": [
    "## Загрузка и первичный анализ данных"
   ]
  },
  {
   "cell_type": "markdown",
   "metadata": {},
   "source": [
    "* Выгрузим все данные, объединим их в один датафрейм и посмотрим на них."
   ]
  },
  {
   "cell_type": "code",
   "execution_count": 50,
   "metadata": {
    "collapsed": false
   },
   "outputs": [],
   "source": [
    "positive = pd.read_csv(\"positive.csv\", \";\", header=None)\n",
    "negative = pd.read_csv(\"negative.csv\", \";\", header=None)\n",
    "result = pd.concat([positive, negative])"
   ]
  },
  {
   "cell_type": "code",
   "execution_count": 51,
   "metadata": {
    "collapsed": false
   },
   "outputs": [],
   "source": [
    "result.columns = ['id', 'tdate', 'tname', 'ttext', 'polarity', 'trep', 'trtw', 'tfav', 'tstcount', 'tfol', 'tfriends', 'listcount']"
   ]
  },
  {
   "cell_type": "code",
   "execution_count": 52,
   "metadata": {
    "collapsed": false
   },
   "outputs": [
    {
     "data": {
      "text/html": [
       "<div>\n",
       "<table border=\"1\" class=\"dataframe\">\n",
       "  <thead>\n",
       "    <tr style=\"text-align: right;\">\n",
       "      <th></th>\n",
       "      <th>id</th>\n",
       "      <th>tdate</th>\n",
       "      <th>tname</th>\n",
       "      <th>ttext</th>\n",
       "      <th>polarity</th>\n",
       "      <th>trep</th>\n",
       "      <th>trtw</th>\n",
       "      <th>tfav</th>\n",
       "      <th>tstcount</th>\n",
       "      <th>tfol</th>\n",
       "      <th>tfriends</th>\n",
       "      <th>listcount</th>\n",
       "    </tr>\n",
       "  </thead>\n",
       "  <tbody>\n",
       "    <tr>\n",
       "      <th>0</th>\n",
       "      <td>415523764130959360</td>\n",
       "      <td>1387903560</td>\n",
       "      <td>Pautova96</td>\n",
       "      <td>Сезон \"мандоринопоедание\",\"а где подарки\",\"сал...</td>\n",
       "      <td>-1</td>\n",
       "      <td>0</td>\n",
       "      <td>0</td>\n",
       "      <td>0</td>\n",
       "      <td>265</td>\n",
       "      <td>24</td>\n",
       "      <td>52</td>\n",
       "      <td>0</td>\n",
       "    </tr>\n",
       "    <tr>\n",
       "      <th>1</th>\n",
       "      <td>410395424386609152</td>\n",
       "      <td>1386680868</td>\n",
       "      <td>KabanMadan</td>\n",
       "      <td>@h197009 @VaDima32 вот поэтому я никогда не иг...</td>\n",
       "      <td>1</td>\n",
       "      <td>0</td>\n",
       "      <td>0</td>\n",
       "      <td>0</td>\n",
       "      <td>35011</td>\n",
       "      <td>699</td>\n",
       "      <td>831</td>\n",
       "      <td>11</td>\n",
       "    </tr>\n",
       "    <tr>\n",
       "      <th>2</th>\n",
       "      <td>411388687251820544</td>\n",
       "      <td>1386917680</td>\n",
       "      <td>katawo</td>\n",
       "      <td>@Kapna к сожалению, хуевый концерт. Я была раз...</td>\n",
       "      <td>-1</td>\n",
       "      <td>0</td>\n",
       "      <td>0</td>\n",
       "      <td>0</td>\n",
       "      <td>8906</td>\n",
       "      <td>272</td>\n",
       "      <td>107</td>\n",
       "      <td>10</td>\n",
       "    </tr>\n",
       "    <tr>\n",
       "      <th>3</th>\n",
       "      <td>410485347999842304</td>\n",
       "      <td>1386702308</td>\n",
       "      <td>yanhik_</td>\n",
       "      <td>@HaliullinaDiana мы можем просто попеть:)\\nГлу...</td>\n",
       "      <td>1</td>\n",
       "      <td>0</td>\n",
       "      <td>0</td>\n",
       "      <td>0</td>\n",
       "      <td>4586</td>\n",
       "      <td>73</td>\n",
       "      <td>65</td>\n",
       "      <td>3</td>\n",
       "    </tr>\n",
       "    <tr>\n",
       "      <th>4</th>\n",
       "      <td>419151425893986305</td>\n",
       "      <td>1388768462</td>\n",
       "      <td>No_no_nobody</td>\n",
       "      <td>@RussianIdiot99 Я тоже реву(( бля вот грустный...</td>\n",
       "      <td>-1</td>\n",
       "      <td>0</td>\n",
       "      <td>0</td>\n",
       "      <td>0</td>\n",
       "      <td>19386</td>\n",
       "      <td>477</td>\n",
       "      <td>310</td>\n",
       "      <td>10</td>\n",
       "    </tr>\n",
       "  </tbody>\n",
       "</table>\n",
       "</div>"
      ],
      "text/plain": [
       "                   id       tdate         tname  \\\n",
       "0  415523764130959360  1387903560     Pautova96   \n",
       "1  410395424386609152  1386680868    KabanMadan   \n",
       "2  411388687251820544  1386917680        katawo   \n",
       "3  410485347999842304  1386702308       yanhik_   \n",
       "4  419151425893986305  1388768462  No_no_nobody   \n",
       "\n",
       "                                               ttext  polarity  trep  trtw  \\\n",
       "0  Сезон \"мандоринопоедание\",\"а где подарки\",\"сал...        -1     0     0   \n",
       "1  @h197009 @VaDima32 вот поэтому я никогда не иг...         1     0     0   \n",
       "2  @Kapna к сожалению, хуевый концерт. Я была раз...        -1     0     0   \n",
       "3  @HaliullinaDiana мы можем просто попеть:)\\nГлу...         1     0     0   \n",
       "4  @RussianIdiot99 Я тоже реву(( бля вот грустный...        -1     0     0   \n",
       "\n",
       "   tfav  tstcount  tfol  tfriends  listcount  \n",
       "0     0       265    24        52          0  \n",
       "1     0     35011   699       831         11  \n",
       "2     0      8906   272       107         10  \n",
       "3     0      4586    73        65          3  \n",
       "4     0     19386   477       310         10  "
      ]
     },
     "execution_count": 52,
     "metadata": {},
     "output_type": "execute_result"
    }
   ],
   "source": [
    "result = result.sample(frac=1).reset_index(drop=True)\n",
    "result.head()"
   ]
  },
  {
   "cell_type": "markdown",
   "metadata": {},
   "source": [
    "Теперь разобьем наш набор данных случайным образом на train и test выборки с отношением 80/20"
   ]
  },
  {
   "cell_type": "code",
   "execution_count": 53,
   "metadata": {
    "collapsed": false
   },
   "outputs": [],
   "source": [
    "train_data, test_data = train_test_split(result, test_size=0.2, random_state=42)"
   ]
  },
  {
   "cell_type": "markdown",
   "metadata": {},
   "source": [
    "Для дальнейшего анализа нам нужны только текст каждого твита и его категория, поэтому удаляем все остальные колонки"
   ]
  },
  {
   "cell_type": "code",
   "execution_count": 54,
   "metadata": {
    "collapsed": false
   },
   "outputs": [],
   "source": [
    "train_data = train_data.drop(['id', 'tdate', 'tname', 'trep', 'trtw', 'tfav', 'tstcount', 'tfol', 'tfriends', 'listcount'], axis = 1)\n",
    "test_data = test_data.drop(['id', 'tdate', 'tname', 'trep', 'trtw', 'tfav', 'tstcount', 'tfol', 'tfriends', 'listcount'], axis = 1)"
   ]
  },
  {
   "cell_type": "code",
   "execution_count": 55,
   "metadata": {
    "collapsed": false
   },
   "outputs": [
    {
     "data": {
      "text/html": [
       "<div>\n",
       "<table border=\"1\" class=\"dataframe\">\n",
       "  <thead>\n",
       "    <tr style=\"text-align: right;\">\n",
       "      <th></th>\n",
       "      <th>ttext</th>\n",
       "      <th>polarity</th>\n",
       "    </tr>\n",
       "  </thead>\n",
       "  <tbody>\n",
       "    <tr>\n",
       "      <th>107097</th>\n",
       "      <td>Хочу в нашем городе увидеться с любимой, но у ...</td>\n",
       "      <td>-1</td>\n",
       "    </tr>\n",
       "    <tr>\n",
       "      <th>224163</th>\n",
       "      <td>@30GREENROMANCE ты милый :3 м не спорь со стар...</td>\n",
       "      <td>1</td>\n",
       "    </tr>\n",
       "    <tr>\n",
       "      <th>63992</th>\n",
       "      <td>Сука снега овер дохуя гараж боя чистить надо.....</td>\n",
       "      <td>-1</td>\n",
       "    </tr>\n",
       "    <tr>\n",
       "      <th>108549</th>\n",
       "      <td>@Nika_RulesWorld та он как-то медленно работает((</td>\n",
       "      <td>-1</td>\n",
       "    </tr>\n",
       "    <tr>\n",
       "      <th>67962</th>\n",
       "      <td>@Toks3000 @treningi2 \\nСергей , по поводу курс...</td>\n",
       "      <td>-1</td>\n",
       "    </tr>\n",
       "  </tbody>\n",
       "</table>\n",
       "</div>"
      ],
      "text/plain": [
       "                                                    ttext  polarity\n",
       "107097  Хочу в нашем городе увидеться с любимой, но у ...        -1\n",
       "224163  @30GREENROMANCE ты милый :3 м не спорь со стар...         1\n",
       "63992   Сука снега овер дохуя гараж боя чистить надо.....        -1\n",
       "108549  @Nika_RulesWorld та он как-то медленно работает((        -1\n",
       "67962   @Toks3000 @treningi2 \\nСергей , по поводу курс...        -1"
      ]
     },
     "execution_count": 55,
     "metadata": {},
     "output_type": "execute_result"
    }
   ],
   "source": [
    "train_data.head()"
   ]
  },
  {
   "cell_type": "code",
   "execution_count": 56,
   "metadata": {
    "collapsed": false
   },
   "outputs": [
    {
     "data": {
      "text/html": [
       "<div>\n",
       "<table border=\"1\" class=\"dataframe\">\n",
       "  <thead>\n",
       "    <tr style=\"text-align: right;\">\n",
       "      <th></th>\n",
       "      <th>ttext</th>\n",
       "      <th>polarity</th>\n",
       "    </tr>\n",
       "  </thead>\n",
       "  <tbody>\n",
       "    <tr>\n",
       "      <th>215081</th>\n",
       "      <td>RT @natalya_stails: @ccrimsoncupcake бедняшка(...</td>\n",
       "      <td>-1</td>\n",
       "    </tr>\n",
       "    <tr>\n",
       "      <th>220754</th>\n",
       "      <td>Как новый год,так у меня чистый лист в голове ...</td>\n",
       "      <td>-1</td>\n",
       "    </tr>\n",
       "    <tr>\n",
       "      <th>60463</th>\n",
       "      <td>RT @Shinebaatar: Өө хөөрхий энэ хаягийг ингэж ...</td>\n",
       "      <td>-1</td>\n",
       "    </tr>\n",
       "    <tr>\n",
       "      <th>213263</th>\n",
       "      <td>Дай обезьяне телефон.) Прекрасная ночь с неожи...</td>\n",
       "      <td>1</td>\n",
       "    </tr>\n",
       "    <tr>\n",
       "      <th>113055</th>\n",
       "      <td>RT @KorelinG: Наши биатлонисточки просто сказо...</td>\n",
       "      <td>1</td>\n",
       "    </tr>\n",
       "  </tbody>\n",
       "</table>\n",
       "</div>"
      ],
      "text/plain": [
       "                                                    ttext  polarity\n",
       "215081  RT @natalya_stails: @ccrimsoncupcake бедняшка(...        -1\n",
       "220754  Как новый год,так у меня чистый лист в голове ...        -1\n",
       "60463   RT @Shinebaatar: Өө хөөрхий энэ хаягийг ингэж ...        -1\n",
       "213263  Дай обезьяне телефон.) Прекрасная ночь с неожи...         1\n",
       "113055  RT @KorelinG: Наши биатлонисточки просто сказо...         1"
      ]
     },
     "execution_count": 56,
     "metadata": {},
     "output_type": "execute_result"
    }
   ],
   "source": [
    "test_data.head()"
   ]
  },
  {
   "cell_type": "markdown",
   "metadata": {},
   "source": [
    "- Теперь, когда данные приведены к единому виду, необходимо выполнить предобработку текста: привести текст к нижнему регистру, очистить его от всего лишнего - спец символов, чисел, ссылок и зарезервированных слов."
   ]
  },
  {
   "cell_type": "markdown",
   "metadata": {},
   "source": [
    "## Предобработка текста"
   ]
  },
  {
   "cell_type": "markdown",
   "metadata": {},
   "source": [
    "* Возьмем твит из тренировочной выборки и посмотрим на него."
   ]
  },
  {
   "cell_type": "code",
   "execution_count": 57,
   "metadata": {
    "collapsed": false
   },
   "outputs": [
    {
     "data": {
      "text/plain": [
       "'еже лох — знаю((((((((( http://t.co/EzAEqYXQVK'"
      ]
     },
     "execution_count": 57,
     "metadata": {},
     "output_type": "execute_result"
    }
   ],
   "source": [
    "train_data['ttext'][7]"
   ]
  },
  {
   "cell_type": "markdown",
   "metadata": {},
   "source": [
    "* Текст необходимо очистить. Для этого воспользуемся библиотекой для предобработки твитов - https://github.com/s/preprocessor  \n",
    "Ее особенность в том, что она позволяет удалять ссылки, хэштеги, упоминания и т.д. \n",
    "Код применения ниже:"
   ]
  },
  {
   "cell_type": "code",
   "execution_count": 58,
   "metadata": {
    "collapsed": false
   },
   "outputs": [
    {
     "data": {
      "text/plain": [
       "'еже лох — знаю((((((((('"
      ]
     },
     "execution_count": 58,
     "metadata": {},
     "output_type": "execute_result"
    }
   ],
   "source": [
    "p.clean(train_data['ttext'][7].lower())"
   ]
  },
  {
   "cell_type": "markdown",
   "metadata": {},
   "source": [
    "* Теперь воспользуемся токенайзером, который очистит текст от оставшихся ненужных символов и соединим получившиеся токены в предложения"
   ]
  },
  {
   "cell_type": "code",
   "execution_count": 59,
   "metadata": {
    "collapsed": false
   },
   "outputs": [
    {
     "data": {
      "text/plain": [
       "'еже лох знаю'"
      ]
     },
     "execution_count": 59,
     "metadata": {},
     "output_type": "execute_result"
    }
   ],
   "source": [
    "' '.join(CountVectorizer().build_tokenizer()(p.clean(train_data['ttext'][7].lower())))"
   ]
  },
  {
   "cell_type": "markdown",
   "metadata": {},
   "source": [
    "* Теперь сделаем то же самое со всеми данными"
   ]
  },
  {
   "cell_type": "code",
   "execution_count": 60,
   "metadata": {
    "collapsed": false
   },
   "outputs": [],
   "source": [
    "train_data['ttext'] = train_data['ttext'].apply(lambda t: ' '.join(CountVectorizer().build_tokenizer()(p.clean(t.lower()))))\n",
    "test_data['ttext'] = test_data['ttext'].apply(lambda t: ' '.join(CountVectorizer().build_tokenizer()(p.clean(t.lower()))))"
   ]
  },
  {
   "cell_type": "markdown",
   "metadata": {},
   "source": [
    "Теперь удалим стоп-слова из наших данных"
   ]
  },
  {
   "cell_type": "code",
   "execution_count": 61,
   "metadata": {
    "collapsed": false
   },
   "outputs": [],
   "source": [
    "stop_words = set(stopwords.words(\"russian\"))  # load stopwords\n",
    "train_data['ttext'] = train_data['ttext'].apply(lambda x: ' '.join([word for word in x.split() if word not in (stop_words)]))\n",
    "test_data['ttext'] = test_data['ttext'].apply(lambda x: ' '.join([word for word in x.split() if word not in (stop_words)]))"
   ]
  },
  {
   "cell_type": "code",
   "execution_count": 62,
   "metadata": {
    "collapsed": false
   },
   "outputs": [
    {
     "data": {
      "text/html": [
       "<div>\n",
       "<table border=\"1\" class=\"dataframe\">\n",
       "  <thead>\n",
       "    <tr style=\"text-align: right;\">\n",
       "      <th></th>\n",
       "      <th>ttext</th>\n",
       "      <th>polarity</th>\n",
       "    </tr>\n",
       "  </thead>\n",
       "  <tbody>\n",
       "    <tr>\n",
       "      <th>107097</th>\n",
       "      <td>хочу нашем городе увидеться любимой выйдет</td>\n",
       "      <td>-1</td>\n",
       "    </tr>\n",
       "    <tr>\n",
       "      <th>224163</th>\n",
       "      <td>милый спорь старшими</td>\n",
       "      <td>1</td>\n",
       "    </tr>\n",
       "    <tr>\n",
       "      <th>63992</th>\n",
       "      <td>сука снега овер дохуя гараж боя чистить всё пр...</td>\n",
       "      <td>-1</td>\n",
       "    </tr>\n",
       "    <tr>\n",
       "      <th>108549</th>\n",
       "      <td>та медленно работает</td>\n",
       "      <td>-1</td>\n",
       "    </tr>\n",
       "    <tr>\n",
       "      <th>67962</th>\n",
       "      <td>сергей поводу курса фоточтение готов купить то...</td>\n",
       "      <td>-1</td>\n",
       "    </tr>\n",
       "  </tbody>\n",
       "</table>\n",
       "</div>"
      ],
      "text/plain": [
       "                                                    ttext  polarity\n",
       "107097         хочу нашем городе увидеться любимой выйдет        -1\n",
       "224163                               милый спорь старшими         1\n",
       "63992   сука снега овер дохуя гараж боя чистить всё пр...        -1\n",
       "108549                               та медленно работает        -1\n",
       "67962   сергей поводу курса фоточтение готов купить то...        -1"
      ]
     },
     "execution_count": 62,
     "metadata": {},
     "output_type": "execute_result"
    }
   ],
   "source": [
    "train_data.head()"
   ]
  },
  {
   "cell_type": "code",
   "execution_count": 63,
   "metadata": {
    "collapsed": false
   },
   "outputs": [
    {
     "data": {
      "text/html": [
       "<div>\n",
       "<table border=\"1\" class=\"dataframe\">\n",
       "  <thead>\n",
       "    <tr style=\"text-align: right;\">\n",
       "      <th></th>\n",
       "      <th>ttext</th>\n",
       "      <th>polarity</th>\n",
       "    </tr>\n",
       "  </thead>\n",
       "  <tbody>\n",
       "    <tr>\n",
       "      <th>215081</th>\n",
       "      <td>rt бедняшка врачу сходить</td>\n",
       "      <td>-1</td>\n",
       "    </tr>\n",
       "    <tr>\n",
       "      <th>220754</th>\n",
       "      <td>новый год чистый лист голове плане подарков зн...</td>\n",
       "      <td>-1</td>\n",
       "    </tr>\n",
       "    <tr>\n",
       "      <th>60463</th>\n",
       "      <td>rt өө хөөрхий энэ хаягийг ингэж удирдах гэж дээ</td>\n",
       "      <td>-1</td>\n",
       "    </tr>\n",
       "    <tr>\n",
       "      <th>213263</th>\n",
       "      <td>дай обезьяне телефон прекрасная ночь неожиданн...</td>\n",
       "      <td>1</td>\n",
       "    </tr>\n",
       "    <tr>\n",
       "      <th>113055</th>\n",
       "      <td>rt наши биатлонисточки просто сказочно летят л...</td>\n",
       "      <td>1</td>\n",
       "    </tr>\n",
       "  </tbody>\n",
       "</table>\n",
       "</div>"
      ],
      "text/plain": [
       "                                                    ttext  polarity\n",
       "215081                          rt бедняшка врачу сходить        -1\n",
       "220754  новый год чистый лист голове плане подарков зн...        -1\n",
       "60463     rt өө хөөрхий энэ хаягийг ингэж удирдах гэж дээ        -1\n",
       "213263  дай обезьяне телефон прекрасная ночь неожиданн...         1\n",
       "113055  rt наши биатлонисточки просто сказочно летят л...         1"
      ]
     },
     "execution_count": 63,
     "metadata": {},
     "output_type": "execute_result"
    }
   ],
   "source": [
    "test_data.head()"
   ]
  },
  {
   "cell_type": "markdown",
   "metadata": {},
   "source": [
    "## TF-IDF представление твитов"
   ]
  },
  {
   "cell_type": "markdown",
   "metadata": {},
   "source": [
    "* Далее, представим твиты в виде TF-IDF. Для этого, воспользуемся TfidfVectorizer'ом.\n",
    "* Установим значения min_df = 5, чтобы отбросить слова, которые появляются реже 5 раз."
   ]
  },
  {
   "cell_type": "code",
   "execution_count": 64,
   "metadata": {
    "collapsed": false
   },
   "outputs": [],
   "source": [
    "TF_IDF = TfidfVectorizer()\n",
    "TF_IDF.fit(list(train_data['ttext']) + list(test_data['ttext']))\n",
    "X_train = TF_IDF.transform(list(train_data['ttext']))\n",
    "X_test = TF_IDF.transform(list(test_data['ttext']))\n",
    "\n",
    "y_train = list(train_data['polarity'])\n",
    "y_test = list(test_data['polarity'])"
   ]
  },
  {
   "cell_type": "markdown",
   "metadata": {},
   "source": [
    "### *Логистическая регрессия *"
   ]
  },
  {
   "cell_type": "code",
   "execution_count": 71,
   "metadata": {
    "collapsed": false
   },
   "outputs": [],
   "source": [
    "model = LogisticRegression()\n",
    "model.fit(X_train, y_train)\n",
    "\n",
    "prediction = model.predict(X_test)"
   ]
  },
  {
   "cell_type": "code",
   "execution_count": 72,
   "metadata": {
    "collapsed": false
   },
   "outputs": [
    {
     "name": "stdout",
     "output_type": "stream",
     "text": [
      "             precision    recall  f1-score   support\n",
      "\n",
      "         -1       0.69      0.75      0.72     20691\n",
      "          1       0.78      0.72      0.75     24676\n",
      "\n",
      "avg / total       0.74      0.74      0.74     45367\n",
      "\n"
     ]
    }
   ],
   "source": [
    "print(metrics.classification_report(prediction,y_test,target_names=['-1', '1']))"
   ]
  },
  {
   "cell_type": "markdown",
   "metadata": {},
   "source": [
    "### *Наивный Байесовский классификатор*"
   ]
  },
  {
   "cell_type": "code",
   "execution_count": 73,
   "metadata": {
    "collapsed": false
   },
   "outputs": [],
   "source": [
    "model = BernoulliNB()\n",
    "model.fit(X_train, y_train)\n",
    "\n",
    "prediction = model.predict(X_test)"
   ]
  },
  {
   "cell_type": "code",
   "execution_count": 74,
   "metadata": {
    "collapsed": false
   },
   "outputs": [
    {
     "name": "stdout",
     "output_type": "stream",
     "text": [
      "             precision    recall  f1-score   support\n",
      "\n",
      "         -1       0.77      0.71      0.74     24308\n",
      "          1       0.69      0.75      0.72     21059\n",
      "\n",
      "avg / total       0.73      0.73      0.73     45367\n",
      "\n"
     ]
    }
   ],
   "source": [
    "print(metrics.classification_report(prediction,y_test,target_names=['-1', '1']))"
   ]
  },
  {
   "cell_type": "markdown",
   "metadata": {},
   "source": [
    "### *Метод опорных векторов*"
   ]
  },
  {
   "cell_type": "code",
   "execution_count": 75,
   "metadata": {
    "collapsed": false
   },
   "outputs": [],
   "source": [
    "model = LinearSVC()\n",
    "model.fit(X_train, y_train)\n",
    "\n",
    "prediction = model.predict(X_test)"
   ]
  },
  {
   "cell_type": "markdown",
   "metadata": {},
   "source": [
    "* *linear*"
   ]
  },
  {
   "cell_type": "code",
   "execution_count": 76,
   "metadata": {
    "collapsed": false
   },
   "outputs": [
    {
     "name": "stdout",
     "output_type": "stream",
     "text": [
      "             precision    recall  f1-score   support\n",
      "\n",
      "         -1       0.72      0.73      0.72     22103\n",
      "          1       0.74      0.73      0.73     23264\n",
      "\n",
      "avg / total       0.73      0.73      0.73     45367\n",
      "\n"
     ]
    }
   ],
   "source": [
    "print(metrics.classification_report(prediction,y_test,target_names=['-1', '1']))"
   ]
  },
  {
   "cell_type": "markdown",
   "metadata": {},
   "source": [
    "## Выводы по алгоритмам\n",
    "\n",
    "Как можно видеть из результатов, качество всех алгоритмов находится на примерно одинаковом уровне.\n",
    "\n",
    "Logistic Regression показывает себя чуть лучше остальных, но не существенно. Изменения параметра `C` не привели к каким-либо значимым изменениям.\n",
    "\n",
    "В виду того, что размерность данных слишком большая для анализа, другие алгоритмы классификации не просчитались до конца на моем компьютере."
   ]
  }
 ],
 "metadata": {
  "anaconda-cloud": {},
  "kernelspec": {
   "display_name": "Python 3",
   "language": "python",
   "name": "python3"
  },
  "language_info": {
   "codemirror_mode": {
    "name": "ipython",
    "version": 3
   },
   "file_extension": ".py",
   "mimetype": "text/x-python",
   "name": "python",
   "nbconvert_exporter": "python",
   "pygments_lexer": "ipython3",
   "version": "3.6.0"
  }
 },
 "nbformat": 4,
 "nbformat_minor": 1
}
